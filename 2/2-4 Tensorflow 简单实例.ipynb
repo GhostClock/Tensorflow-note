{
 "cells": [
  {
   "cell_type": "code",
   "execution_count": 1,
   "metadata": {
    "collapsed": true
   },
   "outputs": [],
   "source": [
    "import tensorflow as tf\n",
    "import numpy as np"
   ]
  },
  {
   "cell_type": "code",
   "execution_count": 6,
   "metadata": {},
   "outputs": [
    {
     "name": "stdout",
     "output_type": "stream",
     "text": [
      "0 [4.0027194, 1.7724478]\n",
      "20 [1.3787979, -0.55911779]\n",
      "40 [0.8448205, -0.24213964]\n",
      "60 [0.53381193, -0.057519019]\n",
      "80 [0.35266861, 0.050011095]\n",
      "100 [0.24716389, 0.11264071]\n",
      "120 [0.18571387, 0.14911862]\n",
      "140 [0.14992303, 0.17036474]\n",
      "160 [0.12907708, 0.18273929]\n",
      "180 [0.1169356, 0.1899467]\n",
      "200 [0.10986394, 0.19414458]\n"
     ]
    },
    {
     "data": {
      "text/plain": [
       "'\\n在for循环中，每次迭代就会run一下train, train会去最小化loss，\\nloss = (y_data - y)^2 求平均值，其中涉及y_data和y，其中y_data已经是一个确定的值,\\ny = k * x_data + b 产生的，其中x_data是确定值，主要影响loss的值就是 k 和 b，\\nk 和 b 是Tensorflow中的两个变量，可以用梯度下降法来优化b和k，使其不断的变化，从而得到loss的值越来越小\\nloss的值越小，k和b就越接近0.1和0.2\\n'"
      ]
     },
     "execution_count": 6,
     "metadata": {},
     "output_type": "execute_result"
    }
   ],
   "source": [
    "# 使用numpy 生成100个随机的点\n",
    "x_data = np.random.rand(100)\n",
    "y_data = x_data * 0.1 + 0.2  # 是一条直线 斜率是0.1 截距是0.2 --> 可以看作是一个真实值\n",
    "\n",
    "# 构造一个线性模型\n",
    "b = tf.Variable(5.) # 定义变量 初始值为0.0\n",
    "k = tf.Variable(6.)\n",
    "y = k * x_data + b # 直线 斜率为k 截距为b --> 预测值\n",
    "\n",
    "\n",
    "# 定义二次代价函数\n",
    "loss = tf.reduce_mean(tf.square(y_data - y)) # 真实值(y_data) - 预测值(y) -> 的到误差^2 -> 求平均值 = 二次代价函数loss\n",
    "\n",
    "# 定义一个 梯度下降法 来进行训练的优化器\n",
    "optimizer = tf.train.GradientDescentOptimizer(0.2)\n",
    "\n",
    "# 定义 最小化代价函数\n",
    "train = optimizer.minimize(loss)\n",
    "\n",
    "\n",
    "# 变量初始化\n",
    "init = tf.global_variables_initializer()\n",
    "\n",
    "with tf.Session() as session:\n",
    "    session.run(init)\n",
    "    for setp in range(201):\n",
    "        session.run(train)\n",
    "        if setp % 20 == 0:\n",
    "            print(setp, session.run([k, b]))\n",
    "# 以上流程:\n",
    "\"\"\"\n",
    "在for循环中，每次迭代就会run一下train, train会去最小化loss，\n",
    "loss = (y_data - y)^2 求平均值，其中涉及y_data和y，其中y_data已经是一个确定的值,\n",
    "y = k * x_data + b 产生的，其中x_data是确定值，主要影响loss的值就是 k 和 b，\n",
    "k 和 b 是Tensorflow中的两个变量，可以用梯度下降法来优化b和k，使其不断的变化，从而得到loss的值越来越小\n",
    "loss的值越小，k和b就越接近0.1和0.2\n",
    "\"\"\"\n",
    "\n"
   ]
  },
  {
   "cell_type": "code",
   "execution_count": null,
   "metadata": {
    "collapsed": true
   },
   "outputs": [],
   "source": []
  }
 ],
 "metadata": {
  "kernelspec": {
   "display_name": "Python 3",
   "language": "python",
   "name": "python3"
  },
  "language_info": {
   "codemirror_mode": {
    "name": "ipython",
    "version": 3
   },
   "file_extension": ".py",
   "mimetype": "text/x-python",
   "name": "python",
   "nbconvert_exporter": "python",
   "pygments_lexer": "ipython3",
   "version": "3.5.1"
  }
 },
 "nbformat": 4,
 "nbformat_minor": 2
}
