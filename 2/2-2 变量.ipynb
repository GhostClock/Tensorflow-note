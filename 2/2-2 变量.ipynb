{
 "cells": [
  {
   "cell_type": "code",
   "execution_count": 1,
   "metadata": {
    "collapsed": true
   },
   "outputs": [],
   "source": [
    "import tensorflow as tf"
   ]
  },
  {
   "cell_type": "code",
   "execution_count": 4,
   "metadata": {},
   "outputs": [
    {
     "name": "stdout",
     "output_type": "stream",
     "text": [
      "[-2 -1]\n",
      "[4 5]\n",
      "[-1  1]\n"
     ]
    }
   ],
   "source": [
    "x = tf.Variable([1, 2])\n",
    "y = tf.constant([3, 3])\n",
    "\n",
    "# 增加一个减法op\n",
    "sub = tf.subtract(x, y)\n",
    "# 增加一个加法法op\n",
    "add1 = tf.add(x, y)\n",
    "\n",
    "add2 = tf.add(x, sub)\n",
    "\n",
    "# 全局初始化\n",
    "init = tf.global_variables_initializer()\n",
    "\n",
    "with tf.Session() as session:\n",
    "    session.run(init) # 初始化变量\n",
    "    print(session.run(sub))\n",
    "    print(session.run(add1))\n",
    "    print(session.run(add2))"
   ]
  },
  {
   "cell_type": "code",
   "execution_count": 5,
   "metadata": {},
   "outputs": [
    {
     "name": "stdout",
     "output_type": "stream",
     "text": [
      "0\n",
      "1\n",
      "2\n",
      "3\n",
      "4\n",
      "5\n"
     ]
    }
   ],
   "source": [
    "# 循环自增\n",
    "\n",
    "# 创建一个变量初始化为0\n",
    "state = tf.Variable(0, name=\"counter\") # 这里是可以取一个name的\n",
    "\n",
    "# 创建一个op, 作用是使state + 1\n",
    "new_value = tf.add(state, 1)\n",
    "\n",
    "uptade = tf.assign(state, new_value) # 赋值的操作 既把new_value赋值给state\n",
    "\n",
    "# 变量初始化\n",
    "init = tf.global_variables_initializer()\n",
    "\n",
    "with tf.Session() as session:\n",
    "    session.run(init)\n",
    "    print(session.run(state)) # 打印0, 因为初始化为0\n",
    "    for _ in range(5):\n",
    "        session.run(uptade)\n",
    "        print(session.run(state))"
   ]
  },
  {
   "cell_type": "code",
   "execution_count": null,
   "metadata": {
    "collapsed": true
   },
   "outputs": [],
   "source": []
  }
 ],
 "metadata": {
  "kernelspec": {
   "display_name": "Python 3",
   "language": "python",
   "name": "python3"
  },
  "language_info": {
   "codemirror_mode": {
    "name": "ipython",
    "version": 3
   },
   "file_extension": ".py",
   "mimetype": "text/x-python",
   "name": "python",
   "nbconvert_exporter": "python",
   "pygments_lexer": "ipython3",
   "version": "3.5.1"
  }
 },
 "nbformat": 4,
 "nbformat_minor": 2
}
